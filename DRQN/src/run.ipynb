{
 "cells": [
  {
   "cell_type": "code",
   "execution_count": 1,
   "metadata": {
    "collapsed": true
   },
   "outputs": [],
   "source": [
    "%matplotlib inline\n",
    "import tensorflow as tf\n",
    "from os import system\n",
    "import random\n",
    "import vizdoom as vd\n",
    "from vizdoom import *\n",
    "import numpy as np\n",
    "import scipy.ndimage as Simg\n",
    "# import cv2\n",
    "import matplotlib.pyplot as plt\n",
    "import matplotlib.image as mpimg\n",
    "import os\n",
    "from ennemies import *\n",
    "import map_parser\n",
    "\n",
    "from basic_ennemy_pos import basic_ennemy_x\n",
    "from network import tf, DRQN\n",
    "from video import VideoWriter\n",
    "from memory import ReplayMemory\n",
    "import map_parser"
   ]
  },
  {
   "cell_type": "code",
   "execution_count": 3,
   "metadata": {
    "collapsed": true
   },
   "outputs": [],
   "source": [
    "# Replay memory minimum and maximum size\n",
    "MIN_MEM_SIZE, MAX_MEM_SIZE = 8000, 80000\n",
    "# Batch size for NN ingestion\n",
    "BATCH_SIZE = 32\n",
    "# Sequence length for NN ingestion\n",
    "SEQUENCE_LENGTH = 8\n",
    "# Number of states to ignore when computing loss\n",
    "IGNORE_UP_TO = 4\n",
    "# Maximum episode duration, in frames\n",
    "# MAX_EPISODE_LENGTH = 125  # 500 with a frame skip of 4 #basic\n",
    "# MAX_EPISODE_LENGTH = 525 # dealy co\n",
    "MAX_EPISODE_LENGTH = 2000 # defend_the_line\n",
    "# Number of training steps\n",
    "TRAINING_STEPS = 1000\n",
    "# Number of backpropagation steps to execute after each episode\n",
    "BACKPROP_STEPS = 15\n",
    "# Number of training steps\n",
    "QLEARNING_STEPS = 5000\n",
    "# Number of steps during which epsilon should be decreased\n",
    "GREEDY_STEPS = 1000\n",
    "# Maximum number of cores to use\n",
    "MAX_CPUS = 32\n",
    "# Learning rate for tensorflow optimizers\n",
    "LEARNING_RATE = 0.001\n",
    "# Use the game features in the learning phase\n",
    "USE_GAME_FEATURES = True\n",
    "# Use LSTM or simple DQN\n",
    "USE_RECURRENCE = True\n",
    "# Learn Q in the learning phase\n",
    "LEARN_Q = True\n",
    "\n",
    "DEATH_PENALTY = 25\n",
    "KILL_REWARD = 100\n",
    "PICKUP_REWARD = 4\n",
    "\n",
    "# Config variables\n",
    "im_w, im_h = 108, 60\n",
    "N_FEATURES = 6\n",
    "N_ACTIONS = 3 ###############\n",
    "ACTION_SET = np.eye(N_ACTIONS, dtype=np.uint32).tolist()\n",
    "SECTION_SEPARATOR = \"------------\"\n",
    "\n",
    "GAME_NAME = 'defend_the_line'"
   ]
  },
  {
   "cell_type": "code",
   "execution_count": null,
   "metadata": {
    "collapsed": true
   },
   "outputs": [],
   "source": [
    "# Need to be imported andaga created after wrap_play_random_episode\n",
    "from multiprocessing import Pool, cpu_count\n",
    "N_CORES = min(cpu_count(), MAX_CPUS)\n",
    "N_CORES = 0\n",
    "if N_CORES > 1:\n",
    "    workers = Pool(N_CORES)"
   ]
  },
  {
   "cell_type": "code",
   "execution_count": 3,
   "metadata": {},
   "outputs": [
    {
     "name": "stdout",
     "output_type": "stream",
     "text": [
      "Building main DRQN\n",
      "Learn Q only\n",
      "Building target DRQN\n"
     ]
    }
   ],
   "source": [
    "# Neural nets and tools\n",
    "print('Building main DRQN')\n",
    "main = DRQN(im_h, im_w, N_FEATURES, N_ACTIONS, 'main', LEARNING_RATE,\n",
    "            use_game_features=USE_GAME_FEATURES, learn_q=LEARN_Q,\n",
    "            recurrent=USE_RECURRENCE)\n",
    "print('Building target DRQN')\n",
    "target = DRQN(im_h, im_w, N_FEATURES, N_ACTIONS, 'target', LEARNING_RATE, True,\n",
    "        recurrent=USE_RECURRENCE)\n",
    "saver = tf.train.Saver()\n",
    "mem = ReplayMemory(MIN_MEM_SIZE, MAX_MEM_SIZE)"
   ]
  },
  {
   "cell_type": "code",
   "execution_count": 2,
   "metadata": {
    "collapsed": true
   },
   "outputs": [],
   "source": [
    "visible = False\n",
    "game = vd.DoomGame()\n",
    "# game.load_config(\"basic.cfg\")\n",
    "# game.load_config(\"scenarios/\"+GAME+\".cfg\")\n",
    "game.load_config(\"scenarios/deadly_corridor.cfg\")\n",
    "game.set_screen_format(ScreenFormat.RGB24)\n",
    "game.set_depth_buffer_enabled(True)\n",
    "\n",
    "# Ennemy detection\n",
    "walls = map_parser.parse(\"maps/deathmatch.txt\")\n",
    "game.clear_available_game_variables()\n",
    "game.add_available_game_variable(vd.GameVariable.POSITION_X)  # 0\n",
    "game.add_available_game_variable(vd.GameVariable.POSITION_Y)  # 1\n",
    "game.add_available_game_variable(vd.GameVariable.POSITION_Z)  # 2\n",
    "\n",
    "game.add_available_game_variable(vd.GameVariable.KILLCOUNT)   # 3\n",
    "game.add_available_game_variable(vd.GameVariable.DEATHCOUNT)  # 4\n",
    "game.add_available_game_variable(vd.GameVariable.ITEMCOUNT)   # 5\n",
    "\n",
    "game.set_labels_buffer_enabled(True)\n",
    "game.set_window_visible(visible)\n",
    "\n",
    "game.init()"
   ]
  },
  {
   "cell_type": "code",
   "execution_count": 4,
   "metadata": {},
   "outputs": [],
   "source": [
    "game.init()"
   ]
  },
  {
   "cell_type": "code",
   "execution_count": 5,
   "metadata": {},
   "outputs": [
    {
     "ename": "AttributeError",
     "evalue": "'vizdoom.vizdoom.DoomGame' object has no attribute 'state'",
     "output_type": "error",
     "traceback": [
      "\u001b[1;31m---------------------------------------------------------------------------\u001b[0m",
      "\u001b[1;31mAttributeError\u001b[0m                            Traceback (most recent call last)",
      "\u001b[1;32m<ipython-input-5-63453165b39c>\u001b[0m in \u001b[0;36m<module>\u001b[1;34m()\u001b[0m\n\u001b[1;32m----> 1\u001b[1;33m \u001b[0mgame\u001b[0m\u001b[1;33m.\u001b[0m\u001b[0mstate\u001b[0m\u001b[1;33m\u001b[0m\u001b[0m\n\u001b[0m",
      "\u001b[1;31mAttributeError\u001b[0m: 'vizdoom.vizdoom.DoomGame' object has no attribute 'state'"
     ]
    }
   ],
   "source": [
    "game.state"
   ]
  },
  {
   "cell_type": "code",
   "execution_count": 8,
   "metadata": {},
   "outputs": [
    {
     "ename": "IndexError",
     "evalue": "index 525 is out of bounds for axis 0 with size 525",
     "output_type": "error",
     "traceback": [
      "\u001b[1;31m---------------------------------------------------------------------------\u001b[0m",
      "\u001b[1;31mIndexError\u001b[0m                                Traceback (most recent call last)",
      "\u001b[1;32m<ipython-input-8-54deb5b04cbc>\u001b[0m in \u001b[0;36m<module>\u001b[1;34m()\u001b[0m\n\u001b[0;32m     13\u001b[0m     \u001b[0mh\u001b[0m\u001b[1;33m,\u001b[0m \u001b[0mw\u001b[0m \u001b[1;33m=\u001b[0m \u001b[0mS\u001b[0m\u001b[1;33m.\u001b[0m\u001b[0mshape\u001b[0m\u001b[1;33m[\u001b[0m\u001b[1;33m:\u001b[0m\u001b[1;36m2\u001b[0m\u001b[1;33m]\u001b[0m\u001b[1;33m\u001b[0m\u001b[0m\n\u001b[0;32m     14\u001b[0m     Simg.zoom(S, [1. * im_h / h, 1. * im_w / w, 1],\n\u001b[1;32m---> 15\u001b[1;33m               output=zoomed[len(dump)], order=0)\n\u001b[0m\u001b[0;32m     16\u001b[0m     \u001b[0mS\u001b[0m \u001b[1;33m=\u001b[0m \u001b[0mzoomed\u001b[0m\u001b[1;33m[\u001b[0m\u001b[0mlen\u001b[0m\u001b[1;33m(\u001b[0m\u001b[0mdump\u001b[0m\u001b[1;33m)\u001b[0m\u001b[1;33m]\u001b[0m  \u001b[1;31m# NOQA\u001b[0m\u001b[1;33m\u001b[0m\u001b[0m\n\u001b[0;32m     17\u001b[0m \u001b[1;33m\u001b[0m\u001b[0m\n",
      "\u001b[1;31mIndexError\u001b[0m: index 525 is out of bounds for axis 0 with size 525"
     ]
    }
   ],
   "source": [
    "verbose=False\n",
    "skip=1\n",
    "game.new_episode()\n",
    "dump = []\n",
    "zoomed = np.zeros((MAX_EPISODE_LENGTH, im_h, im_w, 3), dtype=np.uint8)\n",
    "action = ACTION_SET[0]\n",
    "while not game.is_episode_finished():\n",
    "    # Get screen buf\n",
    "    state = game.get_state()\n",
    "    S = state.screen_buffer  # NOQA\n",
    "\n",
    "    # Resample to our network size\n",
    "    h, w = S.shape[:2]\n",
    "    Simg.zoom(S, [1. * im_h / h, 1. * im_w / w, 1],\n",
    "              output=zoomed[len(dump)], order=0)\n",
    "    S = zoomed[len(dump)]  # NOQA\n",
    "\n",
    "    # Get game features an action\n",
    "    game_features = [basic_ennemy_x(state)]\n",
    "    action = random.choice(ACTION_SET)\n",
    "    reward = game.make_action(action, skip)\n",
    "    dump.append((S, action, reward, game_features))\n",
    "return dump"
   ]
  },
  {
   "cell_type": "code",
   "execution_count": 16,
   "metadata": {},
   "outputs": [
    {
     "data": {
      "text/plain": [
       "(240, 320, 3)"
      ]
     },
     "execution_count": 16,
     "metadata": {},
     "output_type": "execute_result"
    }
   ],
   "source": [
    "np.shape(S)"
   ]
  },
  {
   "cell_type": "code",
   "execution_count": 12,
   "metadata": {},
   "outputs": [
    {
     "data": {
      "text/plain": [
       "(525, 60, 108, 3)"
      ]
     },
     "execution_count": 12,
     "metadata": {},
     "output_type": "execute_result"
    }
   ],
   "source": [
    "np.shape(zoomed)"
   ]
  },
  {
   "cell_type": "code",
   "execution_count": 13,
   "metadata": {},
   "outputs": [
    {
     "data": {
      "text/plain": [
       "(525, 4)"
      ]
     },
     "execution_count": 13,
     "metadata": {},
     "output_type": "execute_result"
    }
   ],
   "source": [
    "np.shape(dump)"
   ]
  },
  {
   "cell_type": "code",
   "execution_count": 14,
   "metadata": {},
   "outputs": [
    {
     "ename": "IndexError",
     "evalue": "index 525 is out of bounds for axis 0 with size 525",
     "output_type": "error",
     "traceback": [
      "\u001b[1;31m---------------------------------------------------------------------------\u001b[0m",
      "\u001b[1;31mIndexError\u001b[0m                                Traceback (most recent call last)",
      "\u001b[1;32m<ipython-input-14-564ffa2e45ec>\u001b[0m in \u001b[0;36m<module>\u001b[1;34m()\u001b[0m\n\u001b[1;32m----> 1\u001b[1;33m \u001b[0mzoomed\u001b[0m\u001b[1;33m[\u001b[0m\u001b[1;36m525\u001b[0m\u001b[1;33m]\u001b[0m\u001b[1;33m\u001b[0m\u001b[0m\n\u001b[0m",
      "\u001b[1;31mIndexError\u001b[0m: index 525 is out of bounds for axis 0 with size 525"
     ]
    }
   ],
   "source": [
    "zoomed[525]"
   ]
  },
  {
   "cell_type": "code",
   "execution_count": null,
   "metadata": {
    "collapsed": true
   },
   "outputs": [],
   "source": []
  },
  {
   "cell_type": "code",
   "execution_count": 4,
   "metadata": {
    "collapsed": true
   },
   "outputs": [],
   "source": [
    "game = vd.DoomGame()\n",
    "# game.set_doom_game_path(\"scenarios/deathmatch.wad\")\n",
    "game.load_config(\"scenarios/basic.cfg\")\n",
    "game.set_screen_format(ScreenFormat.RGB24)\n",
    "\n",
    "game.set_depth_buffer_enabled(True)\n",
    "game.set_labels_buffer_enabled(True)\n",
    "\n",
    "# Ennemy detection\n",
    "walls = None  # map_parser.parse(\"maps/deathmatch.txt\")\n",
    "game.clear_available_game_variables()\n",
    "game.add_available_game_variable(vd.GameVariable.POSITION_X)  # 0\n",
    "game.add_available_game_variable(vd.GameVariable.POSITION_Y)  # 1\n",
    "game.add_available_game_variable(vd.GameVariable.POSITION_Z)  # 2\n",
    "\n",
    "game.add_available_game_variable(vd.GameVariable.KILLCOUNT)   # 3\n",
    "game.add_available_game_variable(vd.GameVariable.DEATHCOUNT)  # 4\n",
    "game.add_available_game_variable(vd.GameVariable.ITEMCOUNT)   # 5\n",
    "\n",
    "game.add_available_game_variable(vd.GameVariable.HEALTH)  # 6\n",
    "game.add_available_game_variable(vd.GameVariable.AMMO5)  # 7\n",
    "game.add_available_game_variable(vd.GameVariable.FRAGCOUNT)  # 8\n",
    "\n",
    "\n",
    "game.clear_available_buttons()\n",
    "game.add_available_button(TURN_LEFT) #1\n",
    "game.add_available_button(TURN_RIGHT) #2\n",
    "game.add_available_button(ATTACK) #3\n",
    "game.add_available_button(MOVE_FORWARD_BACKWARD_DELTA) #4\n",
    "game.add_available_button(MOVE_RIGHT) #5\n",
    "game.add_available_button(TURN_LEFT_RIGHT_DELTA) #6\n",
    "game.add_available_button(TURN180) #7\n",
    "\n",
    "game.set_render_hud(False)\n",
    "game.set_render_crosshair(True)\n",
    "game.set_render_weapon(True)\n",
    "game.set_render_decals(False)\n",
    "game.set_render_particles(False)\n",
    "\n",
    "game.init()"
   ]
  },
  {
   "cell_type": "code",
   "execution_count": 9,
   "metadata": {},
   "outputs": [
    {
     "data": {
      "text/plain": [
       "7"
      ]
     },
     "execution_count": 9,
     "metadata": {},
     "output_type": "execute_result"
    }
   ],
   "source": [
    "game.get_available_buttons_size()"
   ]
  },
  {
   "cell_type": "code",
   "execution_count": 60,
   "metadata": {
    "collapsed": true
   },
   "outputs": [],
   "source": [
    "game.new_episode()"
   ]
  },
  {
   "cell_type": "code",
   "execution_count": 61,
   "metadata": {
    "collapsed": true
   },
   "outputs": [],
   "source": [
    "state=game.get_state()"
   ]
  },
  {
   "cell_type": "code",
   "execution_count": 22,
   "metadata": {},
   "outputs": [
    {
     "data": {
      "text/plain": [
       "0.0"
      ]
     },
     "execution_count": 22,
     "metadata": {},
     "output_type": "execute_result"
    }
   ],
   "source": [
    "game.make_action(ACTION_SET[1])"
   ]
  },
  {
   "cell_type": "code",
   "execution_count": 23,
   "metadata": {},
   "outputs": [
    {
     "data": {
      "text/plain": [
       "[0, 1, 0]"
      ]
     },
     "execution_count": 23,
     "metadata": {},
     "output_type": "execute_result"
    }
   ],
   "source": [
    "ACTION_SET[1]"
   ]
  },
  {
   "cell_type": "code",
   "execution_count": 24,
   "metadata": {
    "collapsed": true
   },
   "outputs": [],
   "source": [
    "ACTION_SET = np.eye(7, dtype=np.uint32).tolist()"
   ]
  },
  {
   "cell_type": "code",
   "execution_count": 25,
   "metadata": {},
   "outputs": [
    {
     "data": {
      "text/plain": [
       "0.0"
      ]
     },
     "execution_count": 25,
     "metadata": {},
     "output_type": "execute_result"
    }
   ],
   "source": [
    "game.make_action(ACTION_SET[6])"
   ]
  },
  {
   "cell_type": "code",
   "execution_count": 26,
   "metadata": {},
   "outputs": [
    {
     "data": {
      "text/plain": [
       "[[1, 0, 0, 0, 0, 0, 0],\n",
       " [0, 1, 0, 0, 0, 0, 0],\n",
       " [0, 0, 1, 0, 0, 0, 0],\n",
       " [0, 0, 0, 1, 0, 0, 0],\n",
       " [0, 0, 0, 0, 1, 0, 0],\n",
       " [0, 0, 0, 0, 0, 1, 0],\n",
       " [0, 0, 0, 0, 0, 0, 1]]"
      ]
     },
     "execution_count": 26,
     "metadata": {},
     "output_type": "execute_result"
    }
   ],
   "source": [
    "ACTION_SET"
   ]
  },
  {
   "cell_type": "code",
   "execution_count": 30,
   "metadata": {},
   "outputs": [
    {
     "data": {
      "text/plain": [
       "1024.0"
      ]
     },
     "execution_count": 30,
     "metadata": {},
     "output_type": "execute_result"
    }
   ],
   "source": [
    "state.labels[1].object_position_x"
   ]
  },
  {
   "cell_type": "code",
   "execution_count": 31,
   "metadata": {},
   "outputs": [
    {
     "data": {
      "text/plain": [
       "array([12, 12, 12, 12, 13, 13, 13, 13, 13, 13, 13, 13, 13, 13, 13, 14, 14,\n",
       "       14, 14, 14, 14, 14, 14, 14, 15, 15, 15, 15, 15, 15, 15, 15, 16, 16,\n",
       "       16, 16, 16, 16, 16, 17, 17, 17, 17, 17, 17, 17, 18, 18, 18, 18, 18,\n",
       "       18, 19, 19, 19, 19, 19, 20, 20, 20, 20, 20, 21, 21, 21, 21, 22, 22,\n",
       "       22, 22, 23, 23, 23, 23, 24, 24, 24, 25, 25, 25, 26, 26, 26, 27, 27,\n",
       "       27, 28, 28, 29, 29, 29, 30, 30, 30, 31, 31, 31, 31, 32, 32, 32, 32,\n",
       "       33, 33, 33, 33, 34, 34, 34, 34, 35, 35, 35, 35, 36, 36, 36, 37, 37,\n",
       "       37, 38, 38, 38, 39, 39, 39, 40, 40, 40, 41, 41, 42, 41, 41, 41, 41,\n",
       "       41, 41, 41, 41, 41, 41, 41, 41, 41, 41, 41, 41, 41, 41, 41, 41, 41,\n",
       "       41, 41, 41, 41, 41, 41, 41, 41, 41, 41, 41, 41, 41, 41, 41, 41, 41,\n",
       "       41, 41, 41, 41, 41, 41, 41, 41, 41, 41, 41, 41, 41, 41, 41, 41, 41,\n",
       "       41, 41, 42, 41, 41, 40, 40, 40, 39, 39, 39, 38, 38, 38, 37, 37, 37,\n",
       "       36, 36, 36, 35, 35, 35, 35, 34, 34, 34, 34, 33, 33, 33, 33, 32, 32,\n",
       "       32, 32, 31, 31, 31, 31, 30, 30, 30, 29, 29, 29, 28, 28, 27, 27, 27,\n",
       "       26, 26, 26, 25, 25, 25, 24, 24, 24, 23, 23, 23, 23, 22, 22, 22, 22,\n",
       "       21, 21, 21, 21, 20, 20, 20, 20, 20, 19, 19, 19, 19, 19, 18, 18, 18,\n",
       "       18, 18, 18, 17, 17, 17, 17, 17, 17, 17, 16, 16, 16, 16, 16, 16, 16,\n",
       "       15, 15, 15, 15, 15, 15, 15, 15, 14, 14, 14, 14, 14, 14, 14, 14, 14,\n",
       "       13, 13, 13, 13, 13, 13, 13, 13, 13, 13, 13, 12, 12, 12], dtype=uint8)"
      ]
     },
     "execution_count": 31,
     "metadata": {},
     "output_type": "execute_result"
    }
   ],
   "source": [
    "state.depth_buffer[65]"
   ]
  },
  {
   "cell_type": "code",
   "execution_count": 32,
   "metadata": {},
   "outputs": [
    {
     "ename": "NameError",
     "evalue": "name 'labels' is not defined",
     "output_type": "error",
     "traceback": [
      "\u001b[1;31m---------------------------------------------------------------------------\u001b[0m",
      "\u001b[1;31mNameError\u001b[0m                                 Traceback (most recent call last)",
      "\u001b[1;32m<ipython-input-32-6c7189e7614b>\u001b[0m in \u001b[0;36m<module>\u001b[1;34m()\u001b[0m\n\u001b[1;32m----> 1\u001b[1;33m \u001b[0mlabels\u001b[0m\u001b[1;33m\u001b[0m\u001b[0m\n\u001b[0m",
      "\u001b[1;31mNameError\u001b[0m: name 'labels' is not defined"
     ]
    }
   ],
   "source": [
    "labels"
   ]
  },
  {
   "cell_type": "code",
   "execution_count": 14,
   "metadata": {},
   "outputs": [
    {
     "data": {
      "text/plain": [
       "7"
      ]
     },
     "execution_count": 14,
     "metadata": {},
     "output_type": "execute_result"
    }
   ],
   "source": [
    "len(state.labels)"
   ]
  },
  {
   "cell_type": "code",
   "execution_count": 45,
   "metadata": {
    "collapsed": true
   },
   "outputs": [],
   "source": [
    "cv2.imshow('ViZDoom Labels Buffer', state.labels_buffer)"
   ]
  },
  {
   "cell_type": "code",
   "execution_count": 46,
   "metadata": {},
   "outputs": [
    {
     "data": {
      "text/plain": [
       "<matplotlib.image.AxesImage at 0x27ee1ab6b38>"
      ]
     },
     "execution_count": 46,
     "metadata": {},
     "output_type": "execute_result"
    },
    {
     "data": {
      "image/png": "[encoded data removed]",
      "text/plain": [
       "<matplotlib.figure.Figure at 0x27ee19449e8>"
      ]
     },
     "metadata": {},
     "output_type": "display_data"
    }
   ],
   "source": [
    "plt.imshow(state.labels_buffer)"
   ]
  },
  {
   "cell_type": "code",
   "execution_count": 47,
   "metadata": {},
   "outputs": [
    {
     "data": {
      "text/plain": [
       "<matplotlib.image.AxesImage at 0x27ee1b2eeb8>"
      ]
     },
     "execution_count": 47,
     "metadata": {},
     "output_type": "execute_result"
    },
    {
     "data": {
      "image/png": "[encoded data removed]",
      "text/plain": [
       "<matplotlib.figure.Figure at 0x27ee1af14a8>"
      ]
     },
     "metadata": {},
     "output_type": "display_data"
    }
   ],
   "source": [
    "plt.imshow(state.depth_buffer)"
   ]
  },
  {
   "cell_type": "code",
   "execution_count": 48,
   "metadata": {},
   "outputs": [
    {
     "data": {
      "text/plain": [
       "array([29, 29, 29, 29, 29, 29, 29, 29, 29, 29, 29, 29, 29, 29, 29, 29, 29,\n",
       "       29, 29, 29, 29, 29, 29, 29, 29, 29, 29, 29, 29, 29, 29, 29, 29, 29,\n",
       "       29, 29, 29, 29, 29, 29, 29, 29, 29, 29, 29, 29, 29, 29, 29, 29, 29,\n",
       "       29, 29, 29, 29, 29, 29, 29, 29, 29, 29, 29, 29, 29, 29, 29, 29, 29,\n",
       "       29, 29, 29, 29, 29, 29, 29, 29, 29, 29, 29, 29, 29, 29, 29, 29, 29,\n",
       "       29, 29, 29, 29, 29, 29, 29, 29, 29, 29, 29, 29, 29, 29, 29, 29, 29,\n",
       "       29, 29, 29, 29, 29, 29, 29, 29, 29, 29, 29, 29, 29, 29, 29, 29, 29,\n",
       "       29, 29, 29, 29, 29, 29, 29, 29, 29, 29, 29, 29, 29, 29, 29, 29, 29,\n",
       "       29, 29, 29, 29, 29, 29, 29, 29, 29, 29, 29, 29, 29, 29, 29, 29, 29,\n",
       "       29, 29, 29, 29, 29, 29, 29, 29, 29, 29, 29, 29, 29, 29, 29, 29, 29,\n",
       "       29, 29, 29, 29, 29, 29, 29, 29, 29, 29, 29, 29, 29, 29, 29, 29, 29,\n",
       "       29, 29, 29, 29, 29, 29, 29, 29, 29, 29, 29, 29, 29, 29, 29, 29, 29,\n",
       "       29, 29, 29, 29, 29, 29, 29, 29, 29, 29, 29, 29, 29, 29, 29, 29, 29,\n",
       "       29, 29, 29, 29, 29, 29, 29, 29, 29, 29, 29, 29, 29, 29, 29, 29, 29,\n",
       "       29, 29, 29, 29, 29, 29, 29, 29, 29, 29, 29, 29, 29, 29, 29, 29, 29,\n",
       "       29, 29, 29, 29, 29, 29, 29, 29, 29, 29, 29, 29, 29, 29, 29, 29, 29,\n",
       "       29, 29, 29, 29, 29, 29, 29, 29, 29, 29, 29, 29, 29, 29, 29, 29, 29,\n",
       "       29, 29, 29, 29, 29, 29, 29, 29, 29, 29, 29, 29, 29, 29, 29, 29, 29,\n",
       "       29, 29, 29, 29, 29, 29, 29, 29, 29, 29, 29, 29, 29, 29], dtype=uint8)"
      ]
     },
     "execution_count": 48,
     "metadata": {},
     "output_type": "execute_result"
    }
   ],
   "source": [
    "state.depth_buffer[65]"
   ]
  },
  {
   "cell_type": "code",
   "execution_count": 49,
   "metadata": {},
   "outputs": [
    {
     "data": {
      "text/plain": [
       "array([[12, 12, 12, ..., 12, 12, 12],\n",
       "       [12, 12, 12, ..., 12, 12, 12],\n",
       "       [12, 12, 12, ..., 12, 12, 12],\n",
       "       ..., \n",
       "       [ 7,  7,  7, ...,  7,  7,  7],\n",
       "       [ 7,  7,  7, ...,  7,  7,  7],\n",
       "       [ 7,  7,  7, ...,  7,  7,  7]], dtype=uint8)"
      ]
     },
     "execution_count": 49,
     "metadata": {},
     "output_type": "execute_result"
    }
   ],
   "source": [
    "state.depth_buffer"
   ]
  },
  {
   "cell_type": "code",
   "execution_count": 50,
   "metadata": {},
   "outputs": [
    {
     "name": "stdout",
     "output_type": "stream",
     "text": [
      "Player position X: 608.0 Y: 608.0 Z: 0.0\n"
     ]
    }
   ],
   "source": [
    "print(\"Player position X:\", state.game_variables[0], \"Y:\", state.game_variables[1], \"Z:\", state.game_variables[2])"
   ]
  },
  {
   "cell_type": "code",
   "execution_count": 56,
   "metadata": {},
   "outputs": [
    {
     "name": "stdout",
     "output_type": "stream",
     "text": [
      "Object id: 1 object name: Medikit label: 42\n",
      "Object position X: 1065.418441772461 Y: 975.5387268066406 Z: 20.0\n",
      "Object id: 2 object name: Medikit label: 85\n",
      "Object position X: 958.8507232666016 Y: 475.75146484375 Z: 20.0\n",
      "Object id: 3 object name: Medikit label: 127\n",
      "Object position X: 914.7549743652344 Y: 514.2530822753906 Z: 20.0\n",
      "Object id: 4 object name: Medikit label: 212\n",
      "Object position X: 709.8167724609375 Y: 620.045654296875 Z: 20.0\n",
      "Object id: 5 object name: Medikit label: 170\n",
      "Object position X: 734.8082275390625 Y: 574.1287689208984 Z: 20.0\n"
     ]
    }
   ],
   "source": [
    "for l in state.labels:\n",
    "            print(\"Object id:\", l.object_id, \"object name:\", l.object_name, \"label:\", l.value)\n",
    "            print(\"Object position X:\", l.object_position_x, \"Y:\", l.object_position_y, \"Z:\", l.object_position_z)"
   ]
  },
  {
   "cell_type": "code",
   "execution_count": 4,
   "metadata": {
    "collapsed": true
   },
   "outputs": [],
   "source": []
  },
  {
   "cell_type": "code",
   "execution_count": 63,
   "metadata": {
    "collapsed": true
   },
   "outputs": [],
   "source": [
    "walls = map_parser.parse(\"maps/basic.txt\")"
   ]
  },
  {
   "cell_type": "code",
   "execution_count": 66,
   "metadata": {
    "collapsed": true
   },
   "outputs": [],
   "source": [
    "map_parser.plot_map(\"deathmatch\")"
   ]
  },
  {
   "cell_type": "code",
   "execution_count": 65,
   "metadata": {},
   "outputs": [
    {
     "data": {
      "text/plain": [
       "[True, False, False]"
      ]
     },
     "execution_count": 65,
     "metadata": {},
     "output_type": "execute_result"
    }
   ],
   "source": [
    "has_visible_entities(state,maps)"
   ]
  },
  {
   "cell_type": "code",
   "execution_count": 52,
   "metadata": {},
   "outputs": [
    {
     "data": {
      "text/plain": [
       "False"
      ]
     },
     "execution_count": 52,
     "metadata": {},
     "output_type": "execute_result"
    }
   ],
   "source": [
    "has_visible(state,walls,ENNEMIES)"
   ]
  },
  {
   "cell_type": "code",
   "execution_count": 31,
   "metadata": {
    "collapsed": true
   },
   "outputs": [],
   "source": [
    "entities = get_cone_entities(state,ENNEMIES)"
   ]
  },
  {
   "cell_type": "code",
   "execution_count": 30,
   "metadata": {},
   "outputs": [
    {
     "data": {
      "text/plain": [
       "(0.0, 0.0)"
      ]
     },
     "execution_count": 30,
     "metadata": {},
     "output_type": "execute_result"
    }
   ],
   "source": [
    "state.game_variables[0], state.game_variables[1]"
   ]
  },
  {
   "cell_type": "code",
   "execution_count": 36,
   "metadata": {},
   "outputs": [
    {
     "data": {
      "text/plain": [
       "160.0"
      ]
     },
     "execution_count": 36,
     "metadata": {},
     "output_type": "execute_result"
    }
   ],
   "source": [
    "entities[5].object_position_x"
   ]
  },
  {
   "cell_type": "code",
   "execution_count": 39,
   "metadata": {},
   "outputs": [
    {
     "data": {
      "text/plain": [
       "[((-32.0, -32.0), (-32.0, 32.0)),\n",
       " ((1344.0, -32.0), (1184.0, -32.0)),\n",
       " ((1344.0, 32.0), (1344.0, -32.0)),\n",
       " ((1184.0, -32.0), (1088.0, -96.0)),\n",
       " ((-32.0, 32.0), (96.0, 96.0)),\n",
       " ((448.0, 32.0), (544.0, 96.0)),\n",
       " ((-32.0, 32.0), (352.0, 32.0)),\n",
       " ((1184.0, -32.0), (864.0, -32.0)),\n",
       " ((448.0, -32.0), (352.0, -32.0)),\n",
       " ((864.0, -32.0), (768.0, -32.0)),\n",
       " ((224.0, 96.0), (352.0, 32.0)),\n",
       " ((544.0, 96.0), (672.0, 96.0)),\n",
       " ((1184.0, 32.0), (1344.0, 32.0)),\n",
       " ((448.0, 32.0), (768.0, 32.0)),\n",
       " ((352.0, 32.0), (448.0, 32.0)),\n",
       " ((224.0, -96.0), (96.0, -96.0)),\n",
       " ((544.0, -96.0), (448.0, -32.0)),\n",
       " ((352.0, -32.0), (224.0, -96.0)),\n",
       " ((352.0, -32.0), (-32.0, -32.0)),\n",
       " ((1088.0, -96.0), (960.0, -96.0)),\n",
       " ((96.0, 96.0), (224.0, 96.0)),\n",
       " ((96.0, -96.0), (-32.0, -32.0)),\n",
       " ((672.0, -96.0), (544.0, -96.0)),\n",
       " ((960.0, -96.0), (864.0, -32.0)),\n",
       " ((768.0, -32.0), (672.0, -96.0)),\n",
       " ((768.0, -32.0), (448.0, -32.0)),\n",
       " ((864.0, 32.0), (960.0, 96.0)),\n",
       " ((672.0, 96.0), (768.0, 32.0)),\n",
       " ((1088.0, 96.0), (1184.0, 32.0)),\n",
       " ((768.0, 32.0), (864.0, 32.0)),\n",
       " ((960.0, 96.0), (1088.0, 96.0)),\n",
       " ((864.0, 32.0), (1184.0, 32.0))]"
      ]
     },
     "execution_count": 39,
     "metadata": {},
     "output_type": "execute_result"
    }
   ],
   "source": [
    "walls"
   ]
  },
  {
   "cell_type": "code",
   "execution_count": 2,
   "metadata": {
    "collapsed": true
   },
   "outputs": [],
   "source": []
  },
  {
   "cell_type": "code",
   "execution_count": 5,
   "metadata": {
    "collapsed": true
   },
   "outputs": [],
   "source": [
    "def plot_map2(map, ennemies=None, player_pos=None):\n",
    "    import matplotlib.pyplot as plt\n",
    "\n",
    "    walls = map_parser.parse(\"maps/%s\" % map)\n",
    "    for a, b in walls:\n",
    "        ax, ay = a\n",
    "        bx, by = b\n",
    "        plt.plot([ax, bx], [ay, by])\n",
    "\n",
    "    if ennemies:\n",
    "        for e in ennemies:\n",
    "            plt.plot([e.object_position_x], [e.object_position_y], 'ro')\n",
    "\n",
    "    if player_pos:\n",
    "        plt.plot([player_pos[0]], [player_pos[1]], 'bo')\n",
    "\n",
    "    # plt.show()\n",
    "    plt.savefig(\"%s.png\" % map)\n",
    "    plt.close()"
   ]
  },
  {
   "cell_type": "code",
   "execution_count": 7,
   "metadata": {},
   "outputs": [
    {
     "data": {
      "text/plain": [
       "['basic.txt',\n",
       " 'cig1.txt',\n",
       " 'cig2.txt',\n",
       " 'deadly_corridor.txt',\n",
       " 'deathmatch.txt',\n",
       " 'defend_the_center.txt',\n",
       " 'defend_the_line.txt',\n",
       " 'health_gathering.txt',\n",
       " 'health_gathering_supreme.txt',\n",
       " 'multi_deathmatch.txt',\n",
       " 'multi_duel.txt',\n",
       " 'my_way_home.txt',\n",
       " 'predict_position.txt',\n",
       " 'rocket_basic.txt',\n",
       " 'simpler_basic.txt',\n",
       " 'take_cover.txt']"
      ]
     },
     "execution_count": 7,
     "metadata": {},
     "output_type": "execute_result"
    }
   ],
   "source": [
    "os.listdir(\"maps\")"
   ]
  },
  {
   "cell_type": "code",
   "execution_count": 8,
   "metadata": {
    "collapsed": true
   },
   "outputs": [],
   "source": [
    "for i in os.listdir(\"maps\"):\n",
    "    plot_map2(i)"
   ]
  },
  {
   "cell_type": "code",
   "execution_count": null,
   "metadata": {
    "collapsed": true
   },
   "outputs": [],
   "source": []
  },
  {
   "cell_type": "code",
   "execution_count": 4,
   "metadata": {
    "collapsed": true
   },
   "outputs": [],
   "source": [
    "game.new_episode()"
   ]
  },
  {
   "cell_type": "code",
   "execution_count": 5,
   "metadata": {
    "collapsed": true
   },
   "outputs": [],
   "source": [
    "state = game.get_state()"
   ]
  },
  {
   "cell_type": "code",
   "execution_count": 6,
   "metadata": {},
   "outputs": [
    {
     "data": {
      "text/plain": [
       "array([[[19, 43, 51],\n",
       "        [19, 43, 51],\n",
       "        [35, 51, 71],\n",
       "        ..., \n",
       "        [27, 47, 67],\n",
       "        [27, 47, 67],\n",
       "        [19, 35, 55]],\n",
       "\n",
       "       [[27, 47, 67],\n",
       "        [19, 43, 51],\n",
       "        [19, 35, 55],\n",
       "        ..., \n",
       "        [19, 35, 55],\n",
       "        [19, 35, 55],\n",
       "        [19, 35, 55]],\n",
       "\n",
       "       [[27, 47, 67],\n",
       "        [27, 47, 67],\n",
       "        [19, 35, 55],\n",
       "        ..., \n",
       "        [19, 35, 55],\n",
       "        [19, 35, 55],\n",
       "        [19, 35, 55]],\n",
       "\n",
       "       ..., \n",
       "       [[19, 19, 19],\n",
       "        [19, 19, 19],\n",
       "        [11, 11, 11],\n",
       "        ..., \n",
       "        [47, 47, 47],\n",
       "        [47, 47, 47],\n",
       "        [55, 55, 55]],\n",
       "\n",
       "       [[19, 19, 19],\n",
       "        [27, 27, 27],\n",
       "        [19, 19, 19],\n",
       "        ..., \n",
       "        [47, 47, 47],\n",
       "        [47, 47, 47],\n",
       "        [47, 47, 47]],\n",
       "\n",
       "       [[11, 11, 11],\n",
       "        [19, 19, 19],\n",
       "        [19, 19, 19],\n",
       "        ..., \n",
       "        [27, 27, 27],\n",
       "        [19, 19, 19],\n",
       "        [19, 19, 19]]], dtype=uint8)"
      ]
     },
     "execution_count": 6,
     "metadata": {},
     "output_type": "execute_result"
    }
   ],
   "source": [
    "state.screen_buffer"
   ]
  },
  {
   "cell_type": "code",
   "execution_count": 7,
   "metadata": {
    "collapsed": true
   },
   "outputs": [],
   "source": [
    "h, w, d = state.screen_buffer.shape"
   ]
  },
  {
   "cell_type": "code",
   "execution_count": 13,
   "metadata": {
    "collapsed": true
   },
   "outputs": [],
   "source": [
    "a = Simg.zoom(state.screen_buffer, [1. * 200 / h, 1. * 100 / w, 1],\n",
    "                           order=0)"
   ]
  },
  {
   "cell_type": "code",
   "execution_count": 14,
   "metadata": {},
   "outputs": [
    {
     "data": {
      "text/plain": [
       "(200, 100, 3)"
      ]
     },
     "execution_count": 14,
     "metadata": {},
     "output_type": "execute_result"
    }
   ],
   "source": [
    "np.shape(a)"
   ]
  },
  {
   "cell_type": "code",
   "execution_count": 17,
   "metadata": {},
   "outputs": [
    {
     "data": {
      "text/plain": [
       "43"
      ]
     },
     "execution_count": 17,
     "metadata": {},
     "output_type": "execute_result"
    }
   ],
   "source": [
    "a[1,2,1]"
   ]
  },
  {
   "cell_type": "code",
   "execution_count": 19,
   "metadata": {
    "collapsed": true
   },
   "outputs": [],
   "source": [
    "m = 0\n",
    "for i in range(200):\n",
    "    for j in range(100):\n",
    "        for k in range(3):\n",
    "            if(a[i,j,k] > m):\n",
    "                m = a[i,j,k]\n",
    "            "
   ]
  },
  {
   "cell_type": "code",
   "execution_count": 20,
   "metadata": {},
   "outputs": [
    {
     "data": {
      "text/plain": [
       "255"
      ]
     },
     "execution_count": 20,
     "metadata": {},
     "output_type": "execute_result"
    }
   ],
   "source": [
    "m"
   ]
  },
  {
   "cell_type": "code",
   "execution_count": 21,
   "metadata": {},
   "outputs": [
    {
     "data": {
      "text/plain": [
       "array([[[ 0.0745098 ,  0.16862745,  0.2       ],\n",
       "        [ 0.1372549 ,  0.2       ,  0.27843137],\n",
       "        [ 0.16862745,  0.27843137,  0.24705882],\n",
       "        ..., \n",
       "        [ 0.1372549 ,  0.2       ,  0.27843137],\n",
       "        [ 0.10588235,  0.16862745,  0.24705882],\n",
       "        [ 0.0745098 ,  0.1372549 ,  0.21568627]],\n",
       "\n",
       "       [[ 0.10588235,  0.18431373,  0.2627451 ],\n",
       "        [ 0.0745098 ,  0.1372549 ,  0.21568627],\n",
       "        [ 0.10588235,  0.16862745,  0.24705882],\n",
       "        ..., \n",
       "        [ 0.1372549 ,  0.2       ,  0.27843137],\n",
       "        [ 0.10588235,  0.16862745,  0.24705882],\n",
       "        [ 0.0745098 ,  0.1372549 ,  0.21568627]],\n",
       "\n",
       "       [[ 0.10588235,  0.18431373,  0.2627451 ],\n",
       "        [ 0.0745098 ,  0.1372549 ,  0.21568627],\n",
       "        [ 0.10588235,  0.16862745,  0.24705882],\n",
       "        ..., \n",
       "        [ 0.0745098 ,  0.1372549 ,  0.21568627],\n",
       "        [ 0.0745098 ,  0.1372549 ,  0.21568627],\n",
       "        [ 0.0745098 ,  0.1372549 ,  0.21568627]],\n",
       "\n",
       "       ..., \n",
       "       [[ 0.0745098 ,  0.0745098 ,  0.0745098 ],\n",
       "        [ 0.10588235,  0.10588235,  0.10588235],\n",
       "        [ 0.15294118,  0.15294118,  0.15294118],\n",
       "        ..., \n",
       "        [ 0.18431373,  0.18431373,  0.18431373],\n",
       "        [ 0.21568627,  0.21568627,  0.21568627],\n",
       "        [ 0.21568627,  0.21568627,  0.21568627]],\n",
       "\n",
       "       [[ 0.0745098 ,  0.0745098 ,  0.0745098 ],\n",
       "        [ 0.04313725,  0.04313725,  0.04313725],\n",
       "        [ 0.18431373,  0.18431373,  0.18431373],\n",
       "        ..., \n",
       "        [ 0.23137255,  0.23137255,  0.23137255],\n",
       "        [ 0.15294118,  0.15294118,  0.15294118],\n",
       "        [ 0.18431373,  0.18431373,  0.18431373]],\n",
       "\n",
       "       [[ 0.04313725,  0.04313725,  0.04313725],\n",
       "        [ 0.04313725,  0.04313725,  0.04313725],\n",
       "        [ 0.04313725,  0.04313725,  0.04313725],\n",
       "        ..., \n",
       "        [ 0.10588235,  0.10588235,  0.10588235],\n",
       "        [ 0.10588235,  0.10588235,  0.10588235],\n",
       "        [ 0.0745098 ,  0.0745098 ,  0.0745098 ]]])"
      ]
     },
     "execution_count": 21,
     "metadata": {},
     "output_type": "execute_result"
    }
   ],
   "source": [
    "a/255."
   ]
  },
  {
   "cell_type": "code",
   "execution_count": 22,
   "metadata": {},
   "outputs": [
    {
     "data": {
      "text/plain": [
       "array([[[ 0.0745098 ,  0.16862745,  0.2       ],\n",
       "        [ 0.0745098 ,  0.16862745,  0.2       ],\n",
       "        [ 0.1372549 ,  0.2       ,  0.27843137],\n",
       "        ..., \n",
       "        [ 0.10588235,  0.18431373,  0.2627451 ],\n",
       "        [ 0.10588235,  0.18431373,  0.2627451 ],\n",
       "        [ 0.0745098 ,  0.1372549 ,  0.21568627]],\n",
       "\n",
       "       [[ 0.10588235,  0.18431373,  0.2627451 ],\n",
       "        [ 0.0745098 ,  0.16862745,  0.2       ],\n",
       "        [ 0.0745098 ,  0.1372549 ,  0.21568627],\n",
       "        ..., \n",
       "        [ 0.0745098 ,  0.1372549 ,  0.21568627],\n",
       "        [ 0.0745098 ,  0.1372549 ,  0.21568627],\n",
       "        [ 0.0745098 ,  0.1372549 ,  0.21568627]],\n",
       "\n",
       "       [[ 0.10588235,  0.18431373,  0.2627451 ],\n",
       "        [ 0.10588235,  0.18431373,  0.2627451 ],\n",
       "        [ 0.0745098 ,  0.1372549 ,  0.21568627],\n",
       "        ..., \n",
       "        [ 0.0745098 ,  0.1372549 ,  0.21568627],\n",
       "        [ 0.0745098 ,  0.1372549 ,  0.21568627],\n",
       "        [ 0.0745098 ,  0.1372549 ,  0.21568627]],\n",
       "\n",
       "       ..., \n",
       "       [[ 0.0745098 ,  0.0745098 ,  0.0745098 ],\n",
       "        [ 0.0745098 ,  0.0745098 ,  0.0745098 ],\n",
       "        [ 0.04313725,  0.04313725,  0.04313725],\n",
       "        ..., \n",
       "        [ 0.18431373,  0.18431373,  0.18431373],\n",
       "        [ 0.18431373,  0.18431373,  0.18431373],\n",
       "        [ 0.21568627,  0.21568627,  0.21568627]],\n",
       "\n",
       "       [[ 0.0745098 ,  0.0745098 ,  0.0745098 ],\n",
       "        [ 0.10588235,  0.10588235,  0.10588235],\n",
       "        [ 0.0745098 ,  0.0745098 ,  0.0745098 ],\n",
       "        ..., \n",
       "        [ 0.18431373,  0.18431373,  0.18431373],\n",
       "        [ 0.18431373,  0.18431373,  0.18431373],\n",
       "        [ 0.18431373,  0.18431373,  0.18431373]],\n",
       "\n",
       "       [[ 0.04313725,  0.04313725,  0.04313725],\n",
       "        [ 0.0745098 ,  0.0745098 ,  0.0745098 ],\n",
       "        [ 0.0745098 ,  0.0745098 ,  0.0745098 ],\n",
       "        ..., \n",
       "        [ 0.10588235,  0.10588235,  0.10588235],\n",
       "        [ 0.0745098 ,  0.0745098 ,  0.0745098 ],\n",
       "        [ 0.0745098 ,  0.0745098 ,  0.0745098 ]]])"
      ]
     },
     "execution_count": 22,
     "metadata": {},
     "output_type": "execute_result"
    }
   ],
   "source": [
    "state.screen_buffer/255.0"
   ]
  },
  {
   "cell_type": "code",
   "execution_count": null,
   "metadata": {
    "collapsed": true
   },
   "outputs": [],
   "source": [
    "np.shape(state.screen_buffer)"
   ]
  }
 ],
 "metadata": {
  "kernelspec": {
   "display_name": "Python 3",
   "language": "python",
   "name": "python3"
  },
  "language_info": {
   "codemirror_mode": {
    "name": "ipython",
    "version": 3
   },
   "file_extension": ".py",
   "mimetype": "text/x-python",
   "name": "python",
   "nbconvert_exporter": "python",
   "pygments_lexer": "ipython3",
   "version": "3.6.2"
  }
 },
 "nbformat": 4,
 "nbformat_minor": 2
}
