{
 "cells": [
  {
   "cell_type": "code",
   "execution_count": 1,
   "metadata": {
    "collapsed": true
   },
   "outputs": [],
   "source": [
    "import random\n",
    "import vizdoom as vd\n",
    "import numpy as np\n",
    "import scipy.ndimage as Simg\n",
    "\n",
    "from basic_ennemy_pos import basic_ennemy_x\n",
    "from network import tf, DRQN\n",
    "from video import VideoWriter\n",
    "from memory import ReplayMemory\n",
    "from config import (\n",
    "    N_ACTIONS, LEARNING_RATE, MIN_MEM_SIZE, MAX_MEM_SIZE,\n",
    "    MAX_CPUS, TRAINING_STEPS, BATCH_SIZE, SEQUENCE_LENGTH,\n",
    "    QLEARNING_STEPS, MAX_EPISODE_LENGTH, DEATH_PENALTY,\n",
    "    KILL_REWARD, PICKUP_REWARD, GREEDY_STEPS, IGNORE_UP_TO,\n",
    "    BACKPROP_STEPS, USE_GAME_FEATURES, LEARN_Q, USE_RECURRENCE,\n",
    ")\n",
    "\n",
    "# Config variables\n",
    "im_w, im_h = 108, 60\n",
    "N_FEATURES = 1\n",
    "ACTION_SET = np.eye(N_ACTIONS, dtype=np.uint32).tolist()\n",
    "SECTION_SEPARATOR = \"------------\""
   ]
  },
  {
   "cell_type": "code",
   "execution_count": 2,
   "metadata": {},
   "outputs": [],
   "source": [
    "from vizdoom import *\n",
    "game = vd.DoomGame()\n",
    "game.load_config(\"scenarios/deadly_corridor.cfg\")\n",
    "# game.load_config(\"basic.cfg\")\n",
    "game.set_screen_format(ScreenFormat.RGB24)\n",
    "game.set_depth_buffer_enabled(True)\n",
    "\n",
    "# Ennemy detection\n",
    "walls = None  # map_parser.parse(\"maps/deathmatch.txt\")\n",
    "game.clear_available_game_variables()\n",
    "game.add_available_game_variable(vd.GameVariable.POSITION_X)  # 0\n",
    "game.add_available_game_variable(vd.GameVariable.POSITION_Y)  # 1\n",
    "game.add_available_game_variable(vd.GameVariable.POSITION_Z)  # 2\n",
    "\n",
    "game.add_available_game_variable(vd.GameVariable.KILLCOUNT)   # 3\n",
    "game.add_available_game_variable(vd.GameVariable.DEATHCOUNT)  # 4\n",
    "game.add_available_game_variable(vd.GameVariable.ITEMCOUNT)   # 5\n",
    "\n",
    "game.set_labels_buffer_enabled(True)\n",
    "\n",
    "\n",
    "game.init()"
   ]
  },
  {
   "cell_type": "code",
   "execution_count": 3,
   "metadata": {},
   "outputs": [
    {
     "ename": "NameError",
     "evalue": "name 'skip' is not defined",
     "output_type": "error",
     "traceback": [
      "\u001b[1;31m---------------------------------------------------------------------------\u001b[0m",
      "\u001b[1;31mNameError\u001b[0m                                 Traceback (most recent call last)",
      "\u001b[1;32m<ipython-input-3-eb7b0d1875e7>\u001b[0m in \u001b[0;36m<module>\u001b[1;34m()\u001b[0m\n\u001b[0;32m     17\u001b[0m     \u001b[0mgame_features\u001b[0m \u001b[1;33m=\u001b[0m \u001b[1;33m[\u001b[0m\u001b[0mbasic_ennemy_x\u001b[0m\u001b[1;33m(\u001b[0m\u001b[0mstate\u001b[0m\u001b[1;33m)\u001b[0m\u001b[1;33m]\u001b[0m\u001b[1;33m\u001b[0m\u001b[0m\n\u001b[0;32m     18\u001b[0m     \u001b[0maction\u001b[0m \u001b[1;33m=\u001b[0m \u001b[0mrandom\u001b[0m\u001b[1;33m.\u001b[0m\u001b[0mchoice\u001b[0m\u001b[1;33m(\u001b[0m\u001b[0mACTION_SET\u001b[0m\u001b[1;33m)\u001b[0m\u001b[1;33m\u001b[0m\u001b[0m\n\u001b[1;32m---> 19\u001b[1;33m     \u001b[0mreward\u001b[0m \u001b[1;33m=\u001b[0m \u001b[0mgame\u001b[0m\u001b[1;33m.\u001b[0m\u001b[0mmake_action\u001b[0m\u001b[1;33m(\u001b[0m\u001b[0maction\u001b[0m\u001b[1;33m,\u001b[0m \u001b[0mskip\u001b[0m\u001b[1;33m)\u001b[0m\u001b[1;33m\u001b[0m\u001b[0m\n\u001b[0m\u001b[0;32m     20\u001b[0m     \u001b[0mdump\u001b[0m\u001b[1;33m.\u001b[0m\u001b[0mappend\u001b[0m\u001b[1;33m(\u001b[0m\u001b[1;33m(\u001b[0m\u001b[0mS\u001b[0m\u001b[1;33m,\u001b[0m \u001b[0maction\u001b[0m\u001b[1;33m,\u001b[0m \u001b[0mreward\u001b[0m\u001b[1;33m,\u001b[0m \u001b[0mgame_features\u001b[0m\u001b[1;33m)\u001b[0m\u001b[1;33m)\u001b[0m\u001b[1;33m\u001b[0m\u001b[0m\n",
      "\u001b[1;31mNameError\u001b[0m: name 'skip' is not defined"
     ]
    }
   ],
   "source": [
    "game.new_episode()\n",
    "dump = []\n",
    "zoomed = np.zeros((MAX_EPISODE_LENGTH, im_h, im_w, 3), dtype=np.uint8)\n",
    "action = ACTION_SET[0]\n",
    "while not game.is_episode_finished():\n",
    "    # Get screen buf\n",
    "    state = game.get_state()\n",
    "    S = state.screen_buffer  # NOQA\n",
    "\n",
    "    # Resample to our network size\n",
    "    h, w = S.shape[:2]\n",
    "    Simg.zoom(S, [1. * im_h / h, 1. * im_w / w, 1],\n",
    "              output=zoomed[len(dump)], order=0)\n",
    "    S = zoomed[len(dump)]  # NOQA\n",
    "\n",
    "    # Get game features an action\n",
    "    game_features = [basic_ennemy_x(state)]\n",
    "    action = random.choice(ACTION_SET)\n",
    "    reward = game.make_action(action, skip)\n",
    "    dump.append((S, action, reward, game_features))"
   ]
  },
  {
   "cell_type": "code",
   "execution_count": 8,
   "metadata": {},
   "outputs": [],
   "source": [
    "a = state.depth_buffer"
   ]
  },
  {
   "cell_type": "code",
   "execution_count": 10,
   "metadata": {},
   "outputs": [],
   "source": [
    "a"
   ]
  },
  {
   "cell_type": "code",
   "execution_count": 11,
   "metadata": {},
   "outputs": [
    {
     "data": {
      "text/plain": [
       "array([[[19, 43, 51],\n",
       "        [19, 43, 51],\n",
       "        [35, 51, 71],\n",
       "        ..., \n",
       "        [27, 47, 67],\n",
       "        [27, 47, 67],\n",
       "        [19, 35, 55]],\n",
       "\n",
       "       [[27, 47, 67],\n",
       "        [19, 43, 51],\n",
       "        [19, 35, 55],\n",
       "        ..., \n",
       "        [19, 35, 55],\n",
       "        [19, 35, 55],\n",
       "        [19, 35, 55]],\n",
       "\n",
       "       [[27, 47, 67],\n",
       "        [27, 47, 67],\n",
       "        [19, 35, 55],\n",
       "        ..., \n",
       "        [19, 35, 55],\n",
       "        [19, 35, 55],\n",
       "        [19, 35, 55]],\n",
       "\n",
       "       ..., \n",
       "       [[19, 19, 19],\n",
       "        [19, 19, 19],\n",
       "        [11, 11, 11],\n",
       "        ..., \n",
       "        [47, 47, 47],\n",
       "        [47, 47, 47],\n",
       "        [55, 55, 55]],\n",
       "\n",
       "       [[19, 19, 19],\n",
       "        [27, 27, 27],\n",
       "        [19, 19, 19],\n",
       "        ..., \n",
       "        [47, 47, 47],\n",
       "        [47, 47, 47],\n",
       "        [47, 47, 47]],\n",
       "\n",
       "       [[11, 11, 11],\n",
       "        [19, 19, 19],\n",
       "        [19, 19, 19],\n",
       "        ..., \n",
       "        [27, 27, 27],\n",
       "        [19, 19, 19],\n",
       "        [19, 19, 19]]], dtype=uint8)"
      ]
     },
     "execution_count": 11,
     "metadata": {},
     "output_type": "execute_result"
    }
   ],
   "source": [
    "state.screen_buffer"
   ]
  },
  {
   "cell_type": "code",
   "execution_count": 11,
   "metadata": {},
   "outputs": [
    {
     "ename": "NameError",
     "evalue": "name 'output_shape' is not defined",
     "output_type": "error",
     "traceback": [
      "\u001b[1;31m---------------------------------------------------------------------------\u001b[0m",
      "\u001b[1;31mNameError\u001b[0m                                 Traceback (most recent call last)",
      "\u001b[1;32m<ipython-input-11-828edad86bd1>\u001b[0m in \u001b[0;36m<module>\u001b[1;34m()\u001b[0m\n\u001b[1;32m----> 1\u001b[1;33m \u001b[0moutput_shape\u001b[0m\u001b[1;33m\u001b[0m\u001b[0m\n\u001b[0m",
      "\u001b[1;31mNameError\u001b[0m: name 'output_shape' is not defined"
     ]
    }
   ],
   "source": [
    "output_shape"
   ]
  },
  {
   "cell_type": "code",
   "execution_count": 13,
   "metadata": {},
   "outputs": [
    {
     "data": {
      "text/plain": [
       "(3, 240, 320)"
      ]
     },
     "execution_count": 13,
     "metadata": {},
     "output_type": "execute_result"
    }
   ],
   "source": [
    "np.shape(S)"
   ]
  },
  {
   "cell_type": "code",
   "execution_count": 14,
   "metadata": {},
   "outputs": [
    {
     "data": {
      "text/plain": [
       "[20.0, 0.45, 1]"
      ]
     },
     "execution_count": 14,
     "metadata": {},
     "output_type": "execute_result"
    }
   ],
   "source": [
    "[1. * im_h / h, 1. * im_w / w, 1]"
   ]
  },
  {
   "cell_type": "code",
   "execution_count": 15,
   "metadata": {},
   "outputs": [
    {
     "data": {
      "text/plain": [
       "60"
      ]
     },
     "execution_count": 15,
     "metadata": {},
     "output_type": "execute_result"
    }
   ],
   "source": [
    "im_h"
   ]
  },
  {
   "cell_type": "code",
   "execution_count": 16,
   "metadata": {},
   "outputs": [
    {
     "data": {
      "text/plain": [
       "108"
      ]
     },
     "execution_count": 16,
     "metadata": {},
     "output_type": "execute_result"
    }
   ],
   "source": [
    "im_w"
   ]
  },
  {
   "cell_type": "code",
   "execution_count": 17,
   "metadata": {},
   "outputs": [
    {
     "data": {
      "text/plain": [
       "3"
      ]
     },
     "execution_count": 17,
     "metadata": {},
     "output_type": "execute_result"
    }
   ],
   "source": [
    "h"
   ]
  },
  {
   "cell_type": "code",
   "execution_count": 18,
   "metadata": {},
   "outputs": [
    {
     "data": {
      "text/plain": [
       "240"
      ]
     },
     "execution_count": 18,
     "metadata": {},
     "output_type": "execute_result"
    }
   ],
   "source": [
    "w"
   ]
  },
  {
   "cell_type": "code",
   "execution_count": 19,
   "metadata": {},
   "outputs": [
    {
     "data": {
      "text/plain": [
       "(3, 240, 320)"
      ]
     },
     "execution_count": 19,
     "metadata": {},
     "output_type": "execute_result"
    }
   ],
   "source": [
    "S.shape"
   ]
  },
  {
   "cell_type": "code",
   "execution_count": null,
   "metadata": {
    "collapsed": true
   },
   "outputs": [],
   "source": []
  }
 ],
 "metadata": {
  "kernelspec": {
   "display_name": "Python 3",
   "language": "python",
   "name": "python3"
  },
  "language_info": {
   "codemirror_mode": {
    "name": "ipython",
    "version": 3
   },
   "file_extension": ".py",
   "mimetype": "text/x-python",
   "name": "python",
   "nbconvert_exporter": "python",
   "pygments_lexer": "ipython3",
   "version": "3.6.2"
  }
 },
 "nbformat": 4,
 "nbformat_minor": 2
}
