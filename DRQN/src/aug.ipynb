{
 "cells": [
  {
   "cell_type": "code",
   "execution_count": 1,
   "metadata": {
    "collapsed": true
   },
   "outputs": [],
   "source": [
    "%matplotlib inline\n",
    "import tensorflow as tf\n",
    "from os import system\n",
    "import random\n",
    "import vizdoom as vd\n",
    "from vizdoom import *\n",
    "import numpy as np\n",
    "import scipy.ndimage as Simg\n",
    "# import cv2\n",
    "import matplotlib.pyplot as plt\n",
    "import matplotlib.image as mpimg\n",
    "import os\n",
    "from ennemies import *\n",
    "import sys\n",
    "\n",
    "from basic_ennemy_pos import basic_ennemy_x\n",
    "from network import tf, DRQN\n",
    "from video import VideoWriter\n",
    "from memory import ReplayMemory\n",
    "import map_parser\n",
    "from config import (\n",
    "    N_ACTIONS, LEARNING_RATE, MIN_MEM_SIZE, MAX_MEM_SIZE,\n",
    "    MAX_CPUS, TRAINING_STEPS, BATCH_SIZE, SEQUENCE_LENGTH,\n",
    "    QLEARNING_STEPS, MAX_EPISODE_LENGTH, DEATH_PENALTY,\n",
    "    KILL_REWARD, PICKUP_REWARD, GREEDY_STEPS, IGNORE_UP_TO,\n",
    "    BACKPROP_STEPS, USE_GAME_FEATURES, LEARN_Q, USE_RECURRENCE,\n",
    ")\n",
    "# from agent import *"
   ]
  },
  {
   "cell_type": "code",
   "execution_count": 3,
   "metadata": {
    "collapsed": true
   },
   "outputs": [],
   "source": [
    "visible = False\n",
    "game = vd.DoomGame()\n",
    "# game.load_config(\"basic.cfg\")\n",
    "game.load_config(\"scenarios/defend_the_line.cfg\")\n",
    "# game.load_config(\"scenarios/deadly_corridor.cfg\")\n",
    "game.set_screen_format(ScreenFormat.RGB24)\n",
    "game.set_depth_buffer_enabled(True)\n",
    "\n",
    "# Ennemy detection\n",
    "walls = None  # map_parser.parse(\"maps/deathmatch.txt\")\n",
    "game.clear_available_game_variables()\n",
    "game.add_available_game_variable(vd.GameVariable.POSITION_X)  # 0\n",
    "game.add_available_game_variable(vd.GameVariable.POSITION_Y)  # 1\n",
    "game.add_available_game_variable(vd.GameVariable.POSITION_Z)  # 2\n",
    "\n",
    "game.add_available_game_variable(vd.GameVariable.KILLCOUNT)   # 3\n",
    "game.add_available_game_variable(vd.GameVariable.DEATHCOUNT)  # 4\n",
    "game.add_available_game_variable(vd.GameVariable.ITEMCOUNT)   # 5\n",
    "game.add_available_game_variable(vd.GameVariable.ANGLE) # 6\n",
    "\n",
    "game.set_labels_buffer_enabled(True)\n",
    "game.set_window_visible(visible)\n",
    "\n",
    "game.init()"
   ]
  },
  {
   "cell_type": "code",
   "execution_count": null,
   "metadata": {
    "collapsed": true
   },
   "outputs": [],
   "source": [
    "vd.GameVariable.ANGLE"
   ]
  },
  {
   "cell_type": "code",
   "execution_count": 6,
   "metadata": {},
   "outputs": [
    {
     "data": {
      "text/plain": [
       "0.0"
      ]
     },
     "execution_count": 6,
     "metadata": {},
     "output_type": "execute_result"
    }
   ],
   "source": [
    "state.game_variables[6]"
   ]
  },
  {
   "cell_type": "code",
   "execution_count": 9,
   "metadata": {
    "collapsed": true
   },
   "outputs": [],
   "source": [
    "walls = map_parser.parse(\"maps/defend_the_line.txt\")"
   ]
  },
  {
   "cell_type": "code",
   "execution_count": 5,
   "metadata": {
    "collapsed": true
   },
   "outputs": [],
   "source": [
    "state=game.get_state()"
   ]
  },
  {
   "cell_type": "code",
   "execution_count": 11,
   "metadata": {},
   "outputs": [
    {
     "data": {
      "text/plain": [
       "[True, False, False]"
      ]
     },
     "execution_count": 11,
     "metadata": {},
     "output_type": "execute_result"
    }
   ],
   "source": [
    "has_visible_entities(state,walls)"
   ]
  },
  {
   "cell_type": "code",
   "execution_count": 7,
   "metadata": {},
   "outputs": [
    {
     "name": "stdout",
     "output_type": "stream",
     "text": [
      "Object id: 1 object name: Demon label: 72\n",
      "Object position X: 74.0 Y: 450.0 Z: 0.0\n",
      "Object id: 2 object name: Demon label: 218\n",
      "Object position X: 56.928924560546875 Y: 292.9289245605469 Z: 0.0\n",
      "Object id: 3 object name: Demon label: 36\n",
      "Object position X: 74.0 Y: 150.0 Z: 0.0\n",
      "Object id: 4 object name: DoomImp label: 182\n",
      "Object position X: 64.0 Y: 400.0 Z: 0.0\n",
      "Object id: 5 object name: DoomImp label: 145\n",
      "Object position X: 64.0 Y: 200.0 Z: 0.0\n",
      "Object id: 6 object name: DoomImp label: 109\n",
      "Object position X: 64.0 Y: 90.0 Z: 0.0\n",
      "Object id: 0 object name: DoomPlayer label: 255\n",
      "Object position X: -480.0 Y: 288.0 Z: 0.0\n"
     ]
    }
   ],
   "source": [
    "for l in state.labels:\n",
    "    print(\"Object id:\", l.object_id, \"object name:\", l.object_name, \"label:\", l.value)\n",
    "    print(\"Object position X:\", l.object_position_x, \"Y:\", l.object_position_y, \"Z:\", l.object_position_z)"
   ]
  },
  {
   "cell_type": "code",
   "execution_count": 8,
   "metadata": {},
   "outputs": [
    {
     "data": {
      "text/plain": [
       "array([-480.,  288.,    0.,    0.,    0.,    0.,    0.])"
      ]
     },
     "execution_count": 8,
     "metadata": {},
     "output_type": "execute_result"
    }
   ],
   "source": [
    "state.game_variables"
   ]
  },
  {
   "cell_type": "code",
   "execution_count": 10,
   "metadata": {},
   "outputs": [
    {
     "data": {
      "text/plain": [
       "vizdoom.vizdoom.GameVariable"
      ]
     },
     "execution_count": 10,
     "metadata": {},
     "output_type": "execute_result"
    }
   ],
   "source": [
    "vd.GameVariable"
   ]
  },
  {
   "cell_type": "code",
   "execution_count": 31,
   "metadata": {
    "collapsed": true
   },
   "outputs": [],
   "source": [
    "relative_x = 0\n",
    "relative_y = 0\n",
    "min_dist = float('inf')\n",
    "for obj in state.labels:\n",
    "#     obj_pos_x = obj.object_position_x\n",
    "#     obj_pos_y = obj.object_position_y\n",
    "    a = np.array((obj.object_position_x ,obj.object_position_y))\n",
    "    b = np.array((state.game_variables[0], state.game_variables[1]))\n",
    "#     print(type(obj.object_name))\n",
    "    if(obj.object_name != 'DoomPlayer'):\n",
    "        dist = np.linalg.norm(a-b)\n",
    "        if(dist < min_dist):\n",
    "            min_dist = dist\n",
    "            relative_x = obj.object_position_x - state.game_variables[0]\n",
    "            relative_y = obj.object_position_y - state.game_variables[1]"
   ]
  },
  {
   "cell_type": "code",
   "execution_count": 26,
   "metadata": {},
   "outputs": [
    {
     "data": {
      "text/plain": [
       "536.92892456054688"
      ]
     },
     "execution_count": 26,
     "metadata": {},
     "output_type": "execute_result"
    }
   ],
   "source": [
    "relative_x"
   ]
  },
  {
   "cell_type": "code",
   "execution_count": 27,
   "metadata": {},
   "outputs": [
    {
     "data": {
      "text/plain": [
       "4.928924560546875"
      ]
     },
     "execution_count": 27,
     "metadata": {},
     "output_type": "execute_result"
    }
   ],
   "source": [
    "relative_y"
   ]
  },
  {
   "cell_type": "code",
   "execution_count": 28,
   "metadata": {},
   "outputs": [
    {
     "data": {
      "text/plain": [
       "536.95154746687251"
      ]
     },
     "execution_count": 28,
     "metadata": {},
     "output_type": "execute_result"
    }
   ],
   "source": [
    "min_dist"
   ]
  },
  {
   "cell_type": "code",
   "execution_count": 31,
   "metadata": {
    "collapsed": true
   },
   "outputs": [],
   "source": [
    "def min_relative_pos(state, entity_type):\n",
    "    relative_x = 0\n",
    "    relative_y = 0\n",
    "    min_dist = float('inf')\n",
    "    for obj in state.labels:\n",
    "    #     obj_pos_x = obj.object_position_x\n",
    "    #     obj_pos_y = obj.object_position_y\n",
    "        if(obj.object_name not in entity_type):\n",
    "            continue\n",
    "        a = np.array((obj.object_position_x ,obj.object_position_y))\n",
    "        b = np.array((state.game_variables[0], state.game_variables[1]))\n",
    "    #     print(type(obj.object_name))\n",
    "        if(obj.object_name != 'DoomPlayer'):\n",
    "            dist = np.linalg.norm(a-b)\n",
    "            if(dist < min_dist):\n",
    "                min_dist = dist\n",
    "                relative_x = obj.object_position_x - state.game_variables[0]\n",
    "                relative_y = obj.object_position_y - state.game_variables[1]\n",
    "                \n",
    "#     return [relative_x, relative_y]\n",
    "    if(relative_x == 0 and relative_y == 0):\n",
    "        return 0\n",
    "    else:\n",
    "        return np.tanh(np.divide(relative_x, relative_y))\n",
    "\n",
    "\n",
    "def get_min_relative_pos(state):\n",
    "    types = ENNEMIES, PICKUPS, BLASTS\n",
    "    return [min_relative_pos(state, x) for x in types]\n",
    "\n",
    "def get_game_feature(state, wall):\n",
    "    types = ENNEMIES, PICKUPS, BLASTS\n",
    "    result = []\n",
    "    for x in types:\n",
    "        result.append(has_visible(state, wall, x))\n",
    "#         result.append(min_relative_pos(state, x)[0])\n",
    "#         result.append(min_relative_pos(state, x)[1])\n",
    "        result.append(min_relative_pos(state, x))\n",
    "    return result"
   ]
  },
  {
   "cell_type": "code",
   "execution_count": 48,
   "metadata": {
    "collapsed": true
   },
   "outputs": [],
   "source": [
    "from ennemies import *"
   ]
  },
  {
   "cell_type": "code",
   "execution_count": 32,
   "metadata": {},
   "outputs": [
    {
     "data": {
      "text/plain": [
       "[True, 1.0, False, 0, False, 0]"
      ]
     },
     "execution_count": 32,
     "metadata": {},
     "output_type": "execute_result"
    }
   ],
   "source": [
    "get_game_feature(state, walls)"
   ]
  },
  {
   "cell_type": "code",
   "execution_count": 37,
   "metadata": {
    "collapsed": true
   },
   "outputs": [],
   "source": [
    "entity_type = ENNEMIES\n",
    "relative_x = 0\n",
    "relative_y = 0\n",
    "min_dist = float('inf')\n",
    "for obj in state.labels:\n",
    "#     obj_pos_x = obj.object_position_x\n",
    "#     obj_pos_y = obj.object_position_y\n",
    "    if(obj.object_name not in entity_type):\n",
    "        continue\n",
    "    a = np.array((obj.object_position_x ,obj.object_position_y))\n",
    "    b = np.array((state.game_variables[0], state.game_variables[1]))\n",
    "#     print(type(obj.object_name))\n",
    "    if(obj.object_name != 'DoomPlayer'):\n",
    "        dist = np.linalg.norm(a-b)\n",
    "        if(dist < min_dist):\n",
    "            min_dist = dist\n",
    "            relative_x = obj.object_position_x - state.game_variables[0]\n",
    "            relative_y = obj.object_position_y - state.game_variables[1]\n",
    "\n",
    "#     return [relative_x, relative_y]\n",
    "# if(relative_x == 0 and relative_y == 0):\n",
    "#     return 0\n",
    "# else:\n",
    "#     return np.tanh(np.divide(relative_x, relative_y))"
   ]
  },
  {
   "cell_type": "code",
   "execution_count": 44,
   "metadata": {},
   "outputs": [
    {
     "data": {
      "text/plain": [
       "0.99999999587769273"
      ]
     },
     "execution_count": 44,
     "metadata": {},
     "output_type": "execute_result"
    }
   ],
   "source": [
    "np.tanh(10)"
   ]
  },
  {
   "cell_type": "code",
   "execution_count": 40,
   "metadata": {},
   "outputs": [
    {
     "data": {
      "text/plain": [
       "108.93429549690114"
      ]
     },
     "execution_count": 40,
     "metadata": {},
     "output_type": "execute_result"
    }
   ],
   "source": [
    "np.divide(relative_x, relative_y)"
   ]
  },
  {
   "cell_type": "code",
   "execution_count": 38,
   "metadata": {},
   "outputs": [
    {
     "data": {
      "text/plain": [
       "536.92892456054688"
      ]
     },
     "execution_count": 38,
     "metadata": {},
     "output_type": "execute_result"
    }
   ],
   "source": [
    "relative_x"
   ]
  },
  {
   "cell_type": "code",
   "execution_count": 39,
   "metadata": {},
   "outputs": [
    {
     "data": {
      "text/plain": [
       "4.928924560546875"
      ]
     },
     "execution_count": 39,
     "metadata": {},
     "output_type": "execute_result"
    }
   ],
   "source": [
    "relative_y"
   ]
  },
  {
   "cell_type": "code",
   "execution_count": 34,
   "metadata": {},
   "outputs": [
    {
     "data": {
      "text/plain": [
       "1.0"
      ]
     },
     "execution_count": 34,
     "metadata": {},
     "output_type": "execute_result"
    }
   ],
   "source": [
    "min_relative_pos(state, ENNEMIES)"
   ]
  },
  {
   "cell_type": "code",
   "execution_count": 59,
   "metadata": {},
   "outputs": [
    {
     "data": {
      "text/plain": [
       "True"
      ]
     },
     "execution_count": 59,
     "metadata": {},
     "output_type": "execute_result"
    }
   ],
   "source": [
    "True == 1"
   ]
  },
  {
   "cell_type": "code",
   "execution_count": 2,
   "metadata": {
    "collapsed": true
   },
   "outputs": [],
   "source": [
    "import math"
   ]
  },
  {
   "cell_type": "code",
   "execution_count": 4,
   "metadata": {},
   "outputs": [
    {
     "data": {
      "text/plain": [
       "1.0"
      ]
     },
     "execution_count": 4,
     "metadata": {},
     "output_type": "execute_result"
    }
   ],
   "source": [
    "math.tanh(536.92892456054688/4.928924560546875)"
   ]
  },
  {
   "cell_type": "code",
   "execution_count": 6,
   "metadata": {},
   "outputs": [
    {
     "data": {
      "text/plain": [
       "0.0"
      ]
     },
     "execution_count": 6,
     "metadata": {},
     "output_type": "execute_result"
    }
   ],
   "source": [
    "math.tanh(0)"
   ]
  },
  {
   "cell_type": "code",
   "execution_count": 15,
   "metadata": {},
   "outputs": [
    {
     "data": {
      "text/plain": [
       "<tf.Tensor 'Tanh_1:0' shape=() dtype=float32>"
      ]
     },
     "execution_count": 15,
     "metadata": {},
     "output_type": "execute_result"
    }
   ],
   "source": [
    "tf.tanh(0.0)"
   ]
  },
  {
   "cell_type": "code",
   "execution_count": 18,
   "metadata": {},
   "outputs": [
    {
     "data": {
      "text/plain": [
       "0.7615941559557649"
      ]
     },
     "execution_count": 18,
     "metadata": {},
     "output_type": "execute_result"
    }
   ],
   "source": [
    "math.tanh(1)"
   ]
  },
  {
   "cell_type": "code",
   "execution_count": 19,
   "metadata": {},
   "outputs": [
    {
     "data": {
      "text/plain": [
       "inf"
      ]
     },
     "execution_count": 19,
     "metadata": {},
     "output_type": "execute_result"
    }
   ],
   "source": [
    "float('Inf')"
   ]
  },
  {
   "cell_type": "code",
   "execution_count": 20,
   "metadata": {},
   "outputs": [
    {
     "data": {
      "text/plain": [
       "1.0"
      ]
     },
     "execution_count": 20,
     "metadata": {},
     "output_type": "execute_result"
    }
   ],
   "source": [
    "math.tanh(float('Inf'))"
   ]
  },
  {
   "cell_type": "code",
   "execution_count": 22,
   "metadata": {},
   "outputs": [
    {
     "name": "stderr",
     "output_type": "stream",
     "text": [
      "C:\\_Software\\Pro\\Anaconda2\\envs\\py36\\lib\\site-packages\\ipykernel_launcher.py:1: RuntimeWarning: divide by zero encountered in double_scalars\n",
      "  \"\"\"Entry point for launching an IPython kernel.\n"
     ]
    },
    {
     "data": {
      "text/plain": [
       "inf"
      ]
     },
     "execution_count": 22,
     "metadata": {},
     "output_type": "execute_result"
    }
   ],
   "source": [
    "np.float64(1.0)/0.0"
   ]
  },
  {
   "cell_type": "code",
   "execution_count": 28,
   "metadata": {},
   "outputs": [
    {
     "name": "stderr",
     "output_type": "stream",
     "text": [
      "C:\\_Software\\Pro\\Anaconda2\\envs\\py36\\lib\\site-packages\\ipykernel_launcher.py:1: RuntimeWarning: divide by zero encountered in true_divide\n",
      "  \"\"\"Entry point for launching an IPython kernel.\n"
     ]
    },
    {
     "data": {
      "text/plain": [
       "-inf"
      ]
     },
     "execution_count": 28,
     "metadata": {},
     "output_type": "execute_result"
    }
   ],
   "source": [
    "np.divide(-1,0)"
   ]
  },
  {
   "cell_type": "code",
   "execution_count": 26,
   "metadata": {},
   "outputs": [
    {
     "data": {
      "text/plain": [
       "0.0"
      ]
     },
     "execution_count": 26,
     "metadata": {},
     "output_type": "execute_result"
    }
   ],
   "source": [
    "math.tanh(0)"
   ]
  },
  {
   "cell_type": "code",
   "execution_count": 30,
   "metadata": {},
   "outputs": [
    {
     "name": "stderr",
     "output_type": "stream",
     "text": [
      "C:\\_Software\\Pro\\Anaconda2\\envs\\py36\\lib\\site-packages\\ipykernel_launcher.py:1: RuntimeWarning: divide by zero encountered in true_divide\n",
      "  \"\"\"Entry point for launching an IPython kernel.\n"
     ]
    },
    {
     "data": {
      "text/plain": [
       "-1.0"
      ]
     },
     "execution_count": 30,
     "metadata": {},
     "output_type": "execute_result"
    }
   ],
   "source": [
    "np.tanh(np.divide(-1,0))"
   ]
  },
  {
   "cell_type": "code",
   "execution_count": null,
   "metadata": {
    "collapsed": true
   },
   "outputs": [],
   "source": []
  }
 ],
 "metadata": {
  "kernelspec": {
   "display_name": "Python 3",
   "language": "python",
   "name": "python3"
  },
  "language_info": {
   "codemirror_mode": {
    "name": "ipython",
    "version": 3
   },
   "file_extension": ".py",
   "mimetype": "text/x-python",
   "name": "python",
   "nbconvert_exporter": "python",
   "pygments_lexer": "ipython3",
   "version": "3.6.2"
  }
 },
 "nbformat": 4,
 "nbformat_minor": 2
}
